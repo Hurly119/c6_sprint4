{
 "cells": [
  {
   "cell_type": "code",
   "execution_count": 1,
   "metadata": {},
   "outputs": [],
   "source": [
    "from bs4 import BeautifulSoup\n",
    "import requests"
   ]
  },
  {
   "cell_type": "code",
   "execution_count": 89,
   "metadata": {},
   "outputs": [],
   "source": [
    "\n",
    "def get_highest_price(keyword):\n",
    "    url = f\"https://shopee.ph/search?keyword={keyword}&order=desc&page=0&sortBy=price\"\n",
    "    \n",
    "    response = requests.get(url=url,headers = {\"User-Agent\":\"Mozilla/5.0 (X11; Linux x86_64)\"}).text\n",
    "    soup = BeautifulSoup(response,\"html.parser\")\n",
    "    print(soup.prettify())\n",
    "#     main = soup.find(\"div\",{\"id\":\"main\"})\n",
    "    return main"
   ]
  },
  {
   "cell_type": "code",
   "execution_count": 90,
   "metadata": {},
   "outputs": [
    {
     "name": "stdout",
     "output_type": "stream",
     "text": [
      "<!DOCTYPE html>\n",
      "<html>\n",
      " <head>\n",
      "  <meta charset=\"utf-8\"/>\n",
      "  <meta content=\"width=device-width,initial-scale=1,maximum-scale=1,minimum-scale=1,user-scalable=no\" name=\"viewport\"/>\n",
      "  <meta content=\"a083bf21014868b179d1143a7bfc8b8014b4bea3\" name=\"shopee:git-sha\"/>\n",
      "  <meta content=\"pc-v4.70.3\" name=\"shopee:version\"/>\n",
      "  <script data-webfe=\"config\">\n",
      "   window.__PAGE_ID__ = 1;\n",
      "    window.__LOCALE__ = 'PH';\n",
      "    window.__ENV__ = 'live';\n",
      "    window.__ASSETS__ = {\"CCMS_FEATURE_TOGGLE\":{\"ADDON_DEAL\":{\"default\":true,\"MY\":false,\"TH\":false},\"ADDRESS_GEOLOCATION_SELECTOR\":{\"TH\":true,\"default\":false,\"VN\":true,\"BR\":true,\"IN\":true,\"PH\":true,\"MY\":true,\"ID\":true},\"ADDRESS_SELECT_ZIPCODE\":{\"default\":false,\"ID\":true,\"TH\":true},\"AMEX_CC\":{\"default\":false,\"TW\":false,\"VN\":true,\"MY\":true,\"IN\":true,\"SG\":true,\"ID\":true},\"BRAND_LIST\":{\"default\":true,\"BR\":false,\"IN\":false},\"BUNDLE_DEAL_USE_11\":{\"default\":true},\"DAILY_DISCOVER_TABS\":{\"default\":false,\"MY\":true,\"ID\":true,\"BR\":true},\"DEFAULT_RATING_FIVE\":{\"default\":false,\"MY\":true,\"VN\":true,\"BR\":true,\"IN\":true,\"PH\":true,\"SG\":true},\"DISTRIBUTE_CHAT_AGENT\":{\"default\":false},\"EDIT_ORDER_ADDRESS\":{\"default\":false,\"TW\":true},\"FILTER_LOCATION_PHASE_2\":{\"default\":false,\"ID\":true,\"VN\":true},\"FILTER_LOWEST_PRICE_GUARANTEE\":{\"default\":true,\"TW\":false},\"FILTER_SERVICE_BY_SHOPEE\":{\"default\":false,\"TW\":true,\"ID\":true},\"GROUP_BUY\":{\"default\":false,\"TW\":true},\"HIDE_PREFER_FILTER_IN_SORTING\":{\"default\":false,\"TW\":true,\"ID\":true,\"IN\":true},\"HIDE_RR_ITEMS_ON_RATING_MODAL\":{\"default\":false,\"SG\":true,\"MY\":true,\"TW\":true},\"ITEM_CARD_LOCATION\":{\"default\":true,\"IN\":false},\"ITEM_LIST_ADULT_CHECK\":{\"default\":false,\"TW\":true,\"ID\":true,\"VN\":true},\"JCB_CC\":{\"default\":false,\"TW\":true,\"VN\":true,\"TH\":true,\"SG\":true,\"ID\":true},\"KYC_CONSENT\":{\"default\":false,\"TH\":true},\"LANGUAGE_SELECTION\":{\"default\":false,\"MY\":true,\"TH\":true,\"IN\":true},\"NEW_PC_WEBCHAT\":{\"default\":true},\"OFFICIAL_MALL_BRAND_LABEL\":{\"default\":true,\"MY\":false,\"BR\":false,\"IN\":false},\"OFFICIAL_MALL_NAME_CHANGE\":{\"default\":true,\"PH\":false,\"TH\":false,\"BR\":false,\"IN\":false},\"ORDER_DETAIL_ERECEIPT\":{\"default\":false,\"TW\":true},\"ORDER_ITEM_DISPLAY_RETURN_POLICY\":{\"default\":true,\"PH\":false,\"TH\":false},\"PRODUCT_DIKELOLA_SHOPEE\":{\"default\":false,\"ID\":true},\"PRODUCT_SOLD_COUNT_CAP\":{\"default\":false,\"ID\":true},\"ROBOTO_FONT\":{\"default\":false,\"MY\":true,\"BR\":true,\"IN\":true,\"PH\":true,\"SG\":true,\"ID\":true},\"SEARCHPAGE_MYADS_ENTRANCE\":{\"default\":false,\"TW\":true,\"ID\":true,\"VN\":true},\"SHOPEE_BUDDY\":{\"default\":false,\"TH\":true},\"SLASH_PRICE\":{\"default\":false,\"TW\":true,\"SG\":true,\"ID\":true},\"THREE_PL_MASKING\":{\"default\":false,\"VN\":true,\"TH\":true,\"PH\":true,\"MY\":true,\"ID\":true},\"TWO_TIER_SHIPPING_FEE_LEARN_MORE\":{\"default\":false,\"ID\":true},\"TW_KYC_POPUP_WEB\":{\"default\":false,\"TW\":true},\"VERIFY_CC_BEFORE_ADD\":{\"default\":true,\"MY\":false,\"BR\":false,\"VN\":false,\"IN\":false},\"VOUCHER_128\":{\"default\":false,\"MY\":true,\"ID\":true,\"VN\":true,\"TH\":true},\"VOUCHER_REMOVE_MASCOT\":{\"default\":true,\"TW\":false},\"WELCOME_PACKAGE\":{\"default\":true}},\"FESTIVAL_SKIN\":{\"data\":[{\"status\":1,\"mobile_top_nav_bar\":{\"color\":\"white\",\"background_image_long\":\"61e371d181045795213790fdf5c7c0a6\",\"display\":1,\"background_image_standard\":\"78611dfc2c09f4bbdfab377ea5208e01\"},\"end\":1617638400,\"name\":\"3.3-4.4 Mega Shopping Sale\",\"pc\":{\"banner\":{\"image_type\":\"fs\",\"image\":\"f5b5042f0f0fd07b37f70418224f8c8f\",\"display_height\":800,\"display_width\":3400},\"display\":1},\"mobile\":{\"display\":1,\"custom_header\":{\"CATEGORY\":{\"background_image\":\"899022d516482992fd3aaa95c98d5b03\"},\"DAILY_DISCOVER\":{\"background_image\":\"1270bfdd894f9e3f7e6265ae08cdb6e9\"}},\"apply_to_pc\":false},\"start\":1613577600,\"mtime\":1613553236,\"operator\":\"jennifer.lee@shopee.com\",\"id\":10}]},\"PAGE_MANIFEST\":{\"pcmall-allcampaigns\":\"\"},\"SPECIAL_SHOP\":{\"data\":[{\"username\":\"platinumkaraoke.ph\",\"shopid\":52800866},{\"username\":\"vivophilippines\",\"shopid\":70046721},{\"username\":\"memoxpress\",\"shopid\":13179855},{\"username\":\"thewowstore\",\"shopid\":24025585},{\"username\":\"globaldeal.ph\",\"shopid\":76801442},{\"username\":\"ellastore123.ph\",\"shopid\":58668858},{\"username\":\"ohcome.ph\",\"shopid\":73592910},{\"username\":\"19days.ph\",\"shopid\":43565072},{\"username\":\"bestdeal_online\",\"shopid\":15287380},{\"username\":\"ugreenph_official\",\"shopid\":98350209},{\"username\":\"saceladywh.ph\",\"shopid\":80904053},{\"username\":\"sacelady.ph\",\"shopid\":54469408},{\"username\":\"skmeiwatches.ph\",\"shopid\":123544870},{\"username\":\"skimei.ph\",\"shopid\":97597250},{\"username\":\"alicefashion0920.ph\",\"shopid\":91681151},{\"username\":\"alicefashion.ph\",\"shopid\":62528342},{\"username\":\"makeup.ph\",\"shopid\":68745315},{\"username\":\"missrose.ph\",\"shopid\":40367589},{\"username\":\"endewo.ph\",\"shopid\":80855911},{\"username\":\"ollivan.ph\",\"shopid\":44772047},{\"username\":\"shopeelifestyle\",\"shopid\":62655794},{\"username\":\"xiaomiofficialstoreph\",\"shopid\":53874302},{\"username\":\"nestle_philippines\",\"shopid\":76176908},{\"username\":\"globeofficialstore\",\"shopid\":76156791},{\"username\":\"shopeeelectronicsmall\",\"shopid\":137545663},{\"username\":\"raybanph\",\"shopid\":126390397},{\"username\":\"leagoo_official\",\"shopid\":141269027},{\"username\":\"nokiaphstore\",\"shopid\":98316140},{\"username\":\"fonterraofficialstore\",\"shopid\":121778969},{\"username\":\"pinengph\",\"shopid\":28456437},{\"username\":\"gameextreme\",\"shopid\":54415693},{\"username\":\"pedigreeph\",\"shopid\":92400595},{\"username\":\"xparkph\",\"shopid\":146654645},{\"username\":\"mcdodophilippines\",\"shopid\":85756535},{\"username\":\"magicdecor.ph\",\"shopid\":162987817},{\"username\":\"ckeyin.ph\",\"shopid\":58510348},{\"username\":\"o.two.oshop.ph\",\"shopid\":158420907},{\"username\":\"o.two.o.ph\",\"shopid\":58413888},{\"username\":\"pudaierbc.ph\",\"shopid\":163311673},{\"username\":\"pudaier1.ph\",\"shopid\":149275728},{\"username\":\"mekingstudio.ph\",\"shopid\":147132007},{\"username\":\"lands.ph\",\"shopid\":38983329},{\"username\":\"shopeemartph\",\"shopid\":137526866},{\"username\":\"newera.ph\",\"shopid\":28528173},{\"username\":\"lenovoofficialph\",\"shopid\":88069863},{\"username\":\"alaskamilk\",\"shopid\":137554540},{\"username\":\"tylex_official\",\"shopid\":119987099},{\"username\":\"lysol\",\"shopid\":26234218},{\"username\":\"sougayilang2.ph\",\"shopid\":123598098},{\"username\":\"sougayilang.ph\",\"shopid\":58568509},{\"username\":\"oakleyph\",\"shopid\":127197841},{\"username\":\"spyderofficial\",\"shopid\":145958898},{\"username\":\"qianhaimail.ph\",\"shopid\":173840229},{\"username\":\"qianhai.ph\",\"shopid\":45275464},{\"username\":\"samsungelectronicstore\",\"shopid\":81871875},{\"username\":\"samsungofficialstore\",\"shopid\":57465664},{\"username\":\"samsungmonitorofficialstore\",\"shopid\":75174553},{\"username\":\"saniyecosmetic.ph\",\"shopid\":161680716},{\"username\":\"saniyeoversea.ph\",\"shopid\":202843137},{\"username\":\"levisphofficial\",\"shopid\":102575292},{\"username\":\"ankerphilippines\",\"shopid\":7516924},{\"username\":\"djiphilippines\",\"shopid\":258376387},{\"username\":\"soundcore.ph\",\"shopid\":251055891},{\"username\":\"eufy.ph\",\"shopid\":251064806},{\"username\":\"nvidiageforceofficialstore\",\"shopid\":225359055},{\"username\":\"pgolayofficialstore\",\"shopid\":221352938},{\"username\":\"imagic_official.ph\",\"shopid\":159595593},{\"username\":\"imagic_local.ph\",\"shopid\":237303611},{\"username\":\"gerber_us.ph\",\"shopid\":233405563},{\"username\":\"iacphone.ph\",\"shopid\":170933114},{\"username\":\"iacmobile.ph\",\"shopid\":235335858},{\"username\":\"enfagrowofficialstoreph\",\"shopid\":254644909},{\"username\":\"edifierphilippines\",\"shopid\":284828838},{\"username\":\"verlyph\",\"shopid\":267294834},{\"username\":\"lactumofficialstoreph\",\"shopid\":254612379},{\"username\":\"nido_philippines\",\"shopid\":137492066},{\"username\":\"ddfimall.id\",\"shopid\":284618237},{\"username\":\"tecnoph\",\"shopid\":280630977},{\"username\":\"amazfit_philippines\",\"shopid\":68897429},{\"username\":\"newbalancephofficial\",\"shopid\":168083932},{\"username\":\"bnyjeansofficialstore\",\"shopid\":106402474},{\"username\":\"roxstoreph\",\"shopid\":275640516},{\"username\":\"baofeng_official\",\"shopid\":146091194},{\"username\":\"yoobaophilippines\",\"shopid\":234979744},{\"username\":\"showtecnavco\",\"shopid\":288289554},{\"username\":\"prp_shp\",\"shopid\":308427859},{\"username\":\"adidasph.os\",\"shopid\":319506484},{\"username\":\"niftyofficial\",\"shopid\":250617638},{\"username\":\"razer_official\",\"shopid\":333238576},{\"username\":\"fancyhome.ph\",\"shopid\":282443493},{\"username\":\"beauty2018.ph\",\"shopid\":51686699},{\"username\":\"sasa_official.ph\",\"shopid\":264596848},{\"username\":\"thelandmarkofficialstore\",\"shopid\":323186309},{\"username\":\"tmrcorp\",\"shopid\":332686603},{\"username\":\"mandauefoamph\",\"shopid\":178857635},{\"username\":\"mandauefoam\",\"shopid\":65299299},{\"username\":\"luckyfunny.ph\",\"shopid\":215274562},{\"username\":\"oneplusphilippines\",\"shopid\":174040909},{\"username\":\"rbwellnessofficialph\",\"shopid\":254579139},{\"username\":\"lgofficialstoreph\",\"shopid\":294974508},{\"username\":\"marshallauthorizedstore\",\"shopid\":287821015},{\"username\":\"huaweiofficialstore\",\"shopid\":127208192},{\"username\":\"huaweiofficialstore\",\"shopid\":127208192},{\"username\":\"enfaglobal.ph\",\"shopid\":309556347},{\"username\":\"dysonphilippines\",\"shopid\":323077144},{\"username\":\"veetofficialph\",\"shopid\":254521354},{\"username\":\"tocoms\",\"shopid\":262176552},{\"username\":\"urbantime\",\"shopid\":289607455},{\"username\":\"kleankanteenph.official\",\"shopid\":297738341},{\"username\":\"chiausmanila\",\"shopid\":279464716},{\"username\":\"garminofficial\",\"shopid\":92737936}]},\"TRANSIFY_COLLECTION_MAPPING\":{\"en-live-149\":1598522315,\"en-live-148\":1613634447,\"en-live-144\":1593688388,\"en-live-146\":1593688359,\"en-live-188\":1603704244,\"en-live-94\":1608518791,\"en-live-95\":1593686718,\"en-live-96\":1593685186,\"en-live-97\":1593686376,\"en-live-99\":1593688639,\"en-live-70\":1610620512,\"en-live-71\":1612509108,\"en-live-76\":1614239235,\"en-live-74\":1593687911,\"en-live-110\":1597290952,\"en-live-84\":1604375308,\"en-live-115\":1612923623,\"en-live-119\":1605594421,\"en-live-36\":1612240455,\"en-live-37\":1611563935,\"en-live-34\":1612491412,\"en-live-35\":1614588595,\"en-live-38\":1600155083,\"en-live-39\":1599560017,\"en-live-225\":1612342087,\"en-live-226\":1612764540,\"en-live-5\":1612493885,\"en-live-205\":1606814304,\"en-live-208\":1606271374,\"en-live-178\":1606451043,\"en-live-159\":1593686809,\"en-live-156\":1593683926,\"en-live-157\":1594717443,\"en-live-154\":1603130086,\"en-live-153\":1606723124,\"en-live-150\":1593684867,\"en-live-122\":1599202710,\"en-live-121\":1593687939,\"en-live-120\":1593685242,\"en-live-127\":1593686708,\"en-live-125\":1599029932,\"en-live-124\":1599732152,\"en-live-61\":1599188947,\"en-live-63\":1613376268,\"en-live-65\":1613372821,\"en-live-64\":1607063006,\"en-live-232\":1608028981,\"en-live-168\":1597389524,\"en-live-60\":1607494816,\"en-live-25\":1593685922,\"en-live-24\":1604371407,\"en-live-26\":1606300637,\"en-live-23\":1614076790,\"en-live-22\":1599202419,\"en-live-139\":1597995116,\"en-live-134\":1613634539,\"en-live-135\":1612493670,\"en-live-137\":1599204412,\"en-live-58\":1610335046,\"en-live-59\":1593687555,\"en-live-54\":1614235381,\"en-live-55\":1613644953,\"en-live-57\":1614062794,\"en-live-52\":1600395439,\"en-live-53\":1614218168,\"en-live-6\":1593686669,\"en-live-7\":1614591905,\"en-live-4\":1593684854,\"en-live-227\":1607595984,\"en-live-175\":1597780159,\"en-live-176\":1599202920,\"en-live-177\":1599823270,\"en-live-179\":1613645844,\"en-live-12\":1614578414,\"en-live-89\":1594112709,\"en-live-106\":1603097492,\"en-live-41\":1609387175,\"en-live-46\":1593685912,\"en-live-45\":1606385186,\"en-live-44\":1594966119,\"en-live-213\":1610345609,\"en-live-212\":1607074501}};\n",
      "  </script>\n",
      "  <script>\n",
      "   function showBody(){document&&document.body&&(document.body.style.visibility=\"visible\")}var SHORT_URL_MAX_LENGTH=256,pathname=location&&location.pathname;if(\"/\"!==pathname&&pathname.length<SHORT_URL_MAX_LENGTH&&\"\"===location.hash&&-1===pathname.indexOf(\"-\")&&0===pathname.lastIndexOf(\"/\")){document&&document.body&&(document.body.style.visibility=\"hidden\"),setTimeout(showBody,5e3);var xhr=new XMLHttpRequest;xhr.open(\"GET\",\"/api/v0/is_short_url/?path=\"+pathname.replace(\"/\",\"\")),xhr.setRequestHeader(\"Content-Type\",\"application/json\"),xhr.setRequestHeader(\"Accept\",\"application/json\"),xhr.onreadystatechange=function(){if(4===this.readyState)if(200===this.status)if(JSON.parse(this.responseText).error)showBody();else{var e=document.createElement(\"a\");e.href=location.href,e.search+=\"?\"===e.search[0]?\"&__classic__=1\":\"?__classic__=1\",location.href=e.href}else showBody()},xhr.send()}\n",
      "  </script>\n",
      "  <script>\n",
      "   if(window.ga=window.ga||function(){(ga.q=ga.q||[]).push(arguments)},ga.l=+new Date,window.PerformanceObserver){var observer=new window.PerformanceObserver((function(e){for(var r=e.getEntries(),n=0;n<r.length;n++){var a=r[n],i=a.name,t=Math.round(a.startTime+a.duration);ga(\"send\",{hitType:\"timing\",timingCategory:\"Performance Metrics\",timingVar:i,timingValue:t})}}));observer.observe({entryTypes:[\"paint\"]})}\n",
      "  </script>\n",
      "  <script>\n",
      "   \"loading\"in HTMLImageElement.prototype?document.addEventListener(\"DOMContentLoaded\",()=>{document.querySelectorAll(\"img[loading]\").forEach(e=>{e.src=e.dataset.src})}):document.write('<script type=\"text/javascript\" src=\"https://deo.shopeemobile.com/shopee/shopee-pcmall-live-sg/assets/lazysizes.474f4097550dc096a57e.js\"><\\/script>');\n",
      "  </script>\n",
      "  <link href=\"https://deo.shopeemobile.com/shopee/shopee-pcmall-live-sg/assets/bc4e1a689f1db379f6dd14421040dd9d.xml\" rel=\"search\" type=\"application/opensearchdescription+xml\"/>\n",
      "  <link href=\"//cf.shopee.ph/\" rel=\"dns-prefetch\"/>\n",
      "  <link href=\"//deo.shopeemobile.com/shopee/\" rel=\"dns-prefetch\"/>\n",
      "  <link href=\"//cv.shopee.ph/\" rel=\"dns-prefetch\"/>\n",
      "  <script>\n",
      "   dataLayer = [];\n",
      "  </script>\n",
      "  <script>\n",
      "   (function (w, d, s, l, i) {\n",
      "      w[l] = w[l] || []; w[l].push({\n",
      "        'gtm.start':\n",
      "          new Date().getTime(), event: 'gtm.js', country: 'ph'\n",
      "      }); var f = d.getElementsByTagName(s)[0],\n",
      "        j = d.createElement(s), dl = l != 'dataLayer' ? '&l=' + l : ''; j.async = true; j.src =\n",
      "          'https://www.googletagmanager.com/gtm.js?id=' + i + dl; f.parentNode.insertBefore(j, f);\n",
      "    })(window, document, 'script', 'dataLayer', 'GTM-WJZQSJF');\n",
      "  </script>\n",
      "  <link href=\"https://deo.shopeemobile.com/shopee/shopee-pcmall-live-sg/assets/bundle.4cf6b73fb45f4fd739aa.css\" rel=\"stylesheet\"/>\n",
      " </head>\n",
      " <body>\n",
      "  <noscript>\n",
      "   <iframe height=\"0\" src=\"https://www.googletagmanager.com/ns.html?id=GTM-WJZQSJF\" style=\"display:none;visibility:hidden\" width=\"0\">\n",
      "   </iframe>\n",
      "  </noscript>\n",
      "  <div id=\"main\">\n",
      "  </div>\n",
      "  <div id=\"modal\">\n",
      "  </div>\n",
      "  <div class=\"shopee__kZMc3xKQ4ab\">\n",
      "   <div class=\"shopee__3o9SfdFxcoiKs\">\n",
      "   </div>\n",
      "  </div>\n",
      "  <div class=\"shopee__fo0dKsgoukkfcaik\">\n",
      "   <div class=\"shopee-modal-xbcA3dFx0Ck\">\n",
      "   </div>\n",
      "  </div>\n",
      "  <script src=\"https://deo.shopeemobile.com/shopee/shopee-pcmall-live-sg/assets/vendors~bundle.9e3fd01f4eb871671116.js\">\n",
      "  </script>\n",
      "  <script src=\"https://deo.shopeemobile.com/shopee/shopee-pcmall-live-sg/assets/bundle.c631b727941bff63b722.js\">\n",
      "  </script>\n",
      " </body>\n",
      "</html>\n"
     ]
    },
    {
     "ename": "NameError",
     "evalue": "name 'main' is not defined",
     "output_type": "error",
     "traceback": [
      "\u001b[1;31m---------------------------------------------------------------------------\u001b[0m",
      "\u001b[1;31mNameError\u001b[0m                                 Traceback (most recent call last)",
      "\u001b[1;32m<ipython-input-90-87ff9ffb943f>\u001b[0m in \u001b[0;36m<module>\u001b[1;34m\u001b[0m\n\u001b[1;32m----> 1\u001b[1;33m \u001b[0mget_highest_price\u001b[0m\u001b[1;33m(\u001b[0m\u001b[1;34m\"boots\"\u001b[0m\u001b[1;33m)\u001b[0m\u001b[1;33m\u001b[0m\u001b[1;33m\u001b[0m\u001b[0m\n\u001b[0m",
      "\u001b[1;32m<ipython-input-89-cf7d8bb6eba0>\u001b[0m in \u001b[0;36mget_highest_price\u001b[1;34m(keyword)\u001b[0m\n\u001b[0;32m      6\u001b[0m     \u001b[0mprint\u001b[0m\u001b[1;33m(\u001b[0m\u001b[0msoup\u001b[0m\u001b[1;33m.\u001b[0m\u001b[0mprettify\u001b[0m\u001b[1;33m(\u001b[0m\u001b[1;33m)\u001b[0m\u001b[1;33m)\u001b[0m\u001b[1;33m\u001b[0m\u001b[1;33m\u001b[0m\u001b[0m\n\u001b[0;32m      7\u001b[0m \u001b[1;31m#     main = soup.find(\"div\",{\"id\":\"main\"})\u001b[0m\u001b[1;33m\u001b[0m\u001b[1;33m\u001b[0m\u001b[1;33m\u001b[0m\u001b[0m\n\u001b[1;32m----> 8\u001b[1;33m     \u001b[1;32mreturn\u001b[0m \u001b[0mmain\u001b[0m\u001b[1;33m\u001b[0m\u001b[1;33m\u001b[0m\u001b[0m\n\u001b[0m",
      "\u001b[1;31mNameError\u001b[0m: name 'main' is not defined"
     ]
    }
   ],
   "source": [
    "get_highest_price(\"boots\")"
   ]
  },
  {
   "cell_type": "code",
   "execution_count": 61,
   "metadata": {},
   "outputs": [
    {
     "ename": "NameError",
     "evalue": "name 'soup' is not defined",
     "output_type": "error",
     "traceback": [
      "\u001b[1;31m---------------------------------------------------------------------------\u001b[0m",
      "\u001b[1;31mNameError\u001b[0m                                 Traceback (most recent call last)",
      "\u001b[1;32m<ipython-input-61-df8ea84c4b29>\u001b[0m in \u001b[0;36m<module>\u001b[1;34m\u001b[0m\n\u001b[1;32m----> 1\u001b[1;33m \u001b[0mprint\u001b[0m\u001b[1;33m(\u001b[0m\u001b[0msoup\u001b[0m\u001b[1;33m.\u001b[0m\u001b[0mprettify\u001b[0m\u001b[1;33m(\u001b[0m\u001b[1;33m)\u001b[0m\u001b[1;33m)\u001b[0m\u001b[1;33m\u001b[0m\u001b[1;33m\u001b[0m\u001b[0m\n\u001b[0m",
      "\u001b[1;31mNameError\u001b[0m: name 'soup' is not defined"
     ]
    }
   ],
   "source": []
  },
  {
   "cell_type": "code",
   "execution_count": null,
   "metadata": {},
   "outputs": [],
   "source": []
  }
 ],
 "metadata": {
  "kernelspec": {
   "display_name": "Python 3",
   "language": "python",
   "name": "python3"
  },
  "language_info": {
   "codemirror_mode": {
    "name": "ipython",
    "version": 3
   },
   "file_extension": ".py",
   "mimetype": "text/x-python",
   "name": "python",
   "nbconvert_exporter": "python",
   "pygments_lexer": "ipython3",
   "version": "3.8.5"
  }
 },
 "nbformat": 4,
 "nbformat_minor": 4
}
