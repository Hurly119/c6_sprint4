{
 "cells": [
  {
   "cell_type": "code",
   "execution_count": 3,
   "metadata": {},
   "outputs": [],
   "source": [
    "import requests\n",
    "from bs4 import BeautifulSoup\n",
    "import json\n",
    "\n",
    "url = \"https://api.yelp.com/v3/businesses/search\"\n",
    "\n",
    "api_key = \"J4wQDgNxj6qjYSCwzqLifx56cbQr4ztWUZ_UmM_3b16czruwCjdMBB5Polloh44HJITVib1mFfgtmLQBw8WFYBEIl2bmc1ac2W7ZFhd6_bjxXHcbPpkNxR6xSyI-YHYx\"\n",
    "\n",
    "def get_businesses(location,term,api_key):\n",
    "    headers ={\"Authorization\": f\"Bearer {api_key}\"}\n",
    "    \n",
    "    data = []\n",
    "    \n",
    "    for offset in range(0,1000,50):\n",
    "        params = {\n",
    "            \"limit\":50,\n",
    "            \"location\":location.replace(\" \",\"+\"),\n",
    "            \"term\":term.replace(\" \",\"+\"),\n",
    "            \"offset\":offset\n",
    "        }\n",
    "        response = requests.get(url=url,headers=headers,params=params)\n",
    "        \n",
    "        if response.status_code == 200:\n",
    "            data += response.json()[\"businesses\"]\n",
    "        elif response.status_code == 400:\n",
    "            print(\"400 bad request\")\n",
    "            break\n",
    "            \n",
    "    return data"
   ]
  },
  {
   "cell_type": "code",
   "execution_count": 7,
   "metadata": {},
   "outputs": [],
   "source": [
    "malls = get_businesses(\"manila\",\"mall\",api_key)"
   ]
  },
  {
   "cell_type": "code",
   "execution_count": 8,
   "metadata": {},
   "outputs": [
    {
     "data": {
      "text/plain": [
       "327"
      ]
     },
     "execution_count": 8,
     "metadata": {},
     "output_type": "execute_result"
    }
   ],
   "source": [
    "len(malls)"
   ]
  },
  {
   "cell_type": "code",
   "execution_count": null,
   "metadata": {},
   "outputs": [],
   "source": []
  }
 ],
 "metadata": {
  "kernelspec": {
   "display_name": "Python 3",
   "language": "python",
   "name": "python3"
  },
  "language_info": {
   "codemirror_mode": {
    "name": "ipython",
    "version": 3
   },
   "file_extension": ".py",
   "mimetype": "text/x-python",
   "name": "python",
   "nbconvert_exporter": "python",
   "pygments_lexer": "ipython3",
   "version": "3.8.5"
  }
 },
 "nbformat": 4,
 "nbformat_minor": 4
}
