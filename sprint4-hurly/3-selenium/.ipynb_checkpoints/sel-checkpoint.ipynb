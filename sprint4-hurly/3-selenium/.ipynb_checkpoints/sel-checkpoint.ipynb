{
 "cells": [
  {
   "cell_type": "code",
   "execution_count": 83,
   "metadata": {},
   "outputs": [],
   "source": [
    "from selenium import webdriver\n",
    "from selenium.webdriver.common.keys import Keys\n",
    "from selenium.webdriver.common.by import By\n",
    "import random\n",
    "import time\n",
    "\n",
    "from selenium.webdriver.support import expected_conditions as EC\n",
    "from selenium.webdriver.support.ui import WebDriverWait\n"
   ]
  },
  {
   "cell_type": "code",
   "execution_count": 6,
   "metadata": {},
   "outputs": [
    {
     "name": "stderr",
     "output_type": "stream",
     "text": [
      "'which' is not recognized as an internal or external command,\n",
      "operable program or batch file.\n"
     ]
    }
   ],
   "source": [
    "!which chromedriver"
   ]
  },
  {
   "cell_type": "code",
   "execution_count": 40,
   "metadata": {},
   "outputs": [],
   "source": [
    "PATH =r\"C:\\Users\\Optiplex\\Downloads\\chromedriver.exe\"\n",
    "\n",
    "driver = webdriver.Chrome(PATH)\n",
    "\n",
    "driver.get(\"https://www.google.com/\")\n",
    "\n",
    "search = driver.find_element_by_name(\"q\")\n",
    "\n",
    "search.send_keys(\"eskwelabs\")\n",
    "search.send_keys(Keys.RETURN)\n",
    "\n",
    "url = driver.current_url\n",
    "\n",
    "driver.get(url)\n",
    "\n",
    "link = driver.find_element(By.PARTIAL_LINK_TEXT,\"Eskwelabs\")\n",
    "\n",
    "link.click()\n",
    "time.sleep(15)\n",
    "\n",
    "driver.quit()"
   ]
  },
  {
   "cell_type": "code",
   "execution_count": 42,
   "metadata": {},
   "outputs": [
    {
     "name": "stdout",
     "output_type": "stream",
     "text": [
      "Through Eskwelabs, I developed a data-driven mindset and a greater passion for learning.\n",
      "Eira B.\n"
     ]
    }
   ],
   "source": [
    "PATH =r\"C:\\Users\\Optiplex\\Downloads\\chromedriver.exe\"\n",
    "driver = webdriver.Chrome(PATH)\n",
    "driver.get('https://google.com')\n",
    "search = driver.find_element_by_name('q')\n",
    "search.send_keys('eskwelabs')\n",
    "search.send_keys(Keys.RETURN)\n",
    "\n",
    "url = driver.current_url\n",
    "driver.get(url)\n",
    "alink = driver.find_element(By.PARTIAL_LINK_TEXT, 'Eskwelabs') #'//*[@id=\"rso\"]/div/div[1]/div/div/div[1]/a/h3')\n",
    "alink.click()\n",
    "url = driver.current_url\n",
    "driver.get(url)\n",
    "\n",
    "y = driver.find_element(By.XPATH, '//*[@id=\"__next\"]/div/main/div/section[6]/div/div[3]/article[2]')\n",
    "print(y.text)\n"
   ]
  },
  {
   "cell_type": "code",
   "execution_count": 30,
   "metadata": {},
   "outputs": [
    {
     "data": {
      "text/plain": [
       "'https://www.google.com/search?source=hp&ei=w20_YNOAKdqnoATonYYw&iflsig=AINFCbYAAAAAYD970wfSM9-1vyeEJDUUgCJmJqVb5NcU&q=eskwelabs&oq=eskwelabs&gs_lcp=Cgdnd3Mtd2l6EANQth1YuB5ggR9oAHAAeACAAQCIAQCSAQCYAQCgAQGqAQdnd3Mtd2l6&sclient=gws-wiz&ved=0ahUKEwiT7vvE_ZPvAhXaE4gKHeiOAQYQ4dUDCAc&uact=5'"
      ]
     },
     "execution_count": 30,
     "metadata": {},
     "output_type": "execute_result"
    }
   ],
   "source": [
    "driver.current_url"
   ]
  },
  {
   "cell_type": "code",
   "execution_count": 13,
   "metadata": {},
   "outputs": [],
   "source": [
    "PATH =r\"C:\\Users\\Optiplex\\Downloads\\chromedriver.exe\"\n",
    "\n",
    "driver = webdriver.Chrome(PATH)\n",
    "\n",
    "driver.get(\"https://www.imdb.com/\")\n",
    "\n",
    "search = driver.find_element_by_id(\"suggestion-search\")\n",
    "\n",
    "search.send_keys(\"aliens\")\n",
    "search.send_keys(Keys.RETURN)\n",
    "time.sleep(15)\n",
    "\n",
    "x = driver.page_source\n",
    "\n",
    "driver.quit()"
   ]
  },
  {
   "cell_type": "code",
   "execution_count": 14,
   "metadata": {},
   "outputs": [],
   "source": [
    "from bs4 import BeautifulSoup\n",
    "\n",
    "soup = BeautifulSoup(x,\"lxml\")\n",
    "\n",
    "contents = soup.find(\"table\", class_=\"findList\")\n",
    "\n",
    "y = contents.find_all(\"a\")"
   ]
  },
  {
   "cell_type": "code",
   "execution_count": 15,
   "metadata": {},
   "outputs": [],
   "source": [
    "z = []\n",
    "\n",
    "for i in y:\n",
    "    z.append(i.get_text())"
   ]
  },
  {
   "cell_type": "code",
   "execution_count": 16,
   "metadata": {},
   "outputs": [
    {
     "data": {
      "text/plain": [
       "['', 'Aliens', '', 'The Aliens']"
      ]
     },
     "execution_count": 16,
     "metadata": {},
     "output_type": "execute_result"
    }
   ],
   "source": [
    "z"
   ]
  },
  {
   "cell_type": "code",
   "execution_count": 17,
   "metadata": {},
   "outputs": [],
   "source": [
    "w = list(filter(None,z))"
   ]
  },
  {
   "cell_type": "code",
   "execution_count": 19,
   "metadata": {},
   "outputs": [],
   "source": [
    "PATH =r\"C:\\Users\\Optiplex\\Downloads\\chromedriver.exe\"\n",
    "\n",
    "driver = webdriver.Chrome(PATH)\n",
    "\n",
    "driver.get(\"https://www.eskwelabs.com/\")\n",
    "\n",
    "x = driver.page_source\n",
    "\n",
    "driver.quit()"
   ]
  },
  {
   "cell_type": "code",
   "execution_count": 21,
   "metadata": {},
   "outputs": [],
   "source": [
    "soup = BeautifulSoup(x,\"lxml\")\n",
    "\n",
    "# contents = soup.find(\"table\", class_=\"findList\")\n",
    "\n",
    "contents = soup.find(\"article\",class_=\"community-testimonial flex flex-col text-left min-w-full md:min-w-0 mx-2 md:mx-6 text-pickled-bluewood hover:text-white hover:bg-wild-blue-yonder border border-wild-blue-yonder rounded-lg px-4 py-8\")\n",
    "\n",
    "text = contents.find(\"p\").get_text()"
   ]
  },
  {
   "cell_type": "code",
   "execution_count": 23,
   "metadata": {},
   "outputs": [
    {
     "data": {
      "text/plain": [
       "'Through Eskwelabs, I developed a data-driven mindset and a greater passion for learning.'"
      ]
     },
     "execution_count": 23,
     "metadata": {},
     "output_type": "execute_result"
    }
   ],
   "source": [
    "contents.find(\"p\").get_text()"
   ]
  },
  {
   "cell_type": "code",
   "execution_count": 69,
   "metadata": {
    "scrolled": true
   },
   "outputs": [],
   "source": [
    "PATH =r\"C:\\Users\\Optiplex\\Downloads\\chromedriver.exe\"\n",
    "\n",
    "driver = webdriver.Chrome(PATH)\n",
    "\n",
    "driver.get(\"https://r3.rappler.com/?option=com_rappler&task=search&language=english&q=philippines+covid+vaccine\")\n",
    "\n",
    "search_links = driver.find_elements(By.TAG_NAME,\"a.gs-title\")\n",
    "\n",
    "search_page = driver.find_elements(By.TAG_NAME,\"div.gsc-cursor-current-page\")\n",
    "\n",
    "urls = dict()\n",
    "for search in search_links:\n",
    "    link = search.get_attribute(\"href\")\n",
    "    title = search.get_attribute(\"innerHTML\").remove(\"<b>\",\"\").replace(\"</b>\",\"\")\n",
    "    \n",
    "    if link != None:\n",
    "        urls[title] = link\n",
    "\n",
    "time.sleep(15)\n",
    "\n",
    "driver.quit()"
   ]
  },
  {
   "cell_type": "code",
   "execution_count": 78,
   "metadata": {},
   "outputs": [],
   "source": [
    "import pandas as pd\n",
    "import numpy as np\n",
    "\n",
    "df = pd.DataFrame({\"title\":urls.keys(),\"link\":urls.values()})"
   ]
  },
  {
   "cell_type": "code",
   "execution_count": 79,
   "metadata": {},
   "outputs": [
    {
     "data": {
      "text/html": [
       "<div>\n",
       "<style scoped>\n",
       "    .dataframe tbody tr th:only-of-type {\n",
       "        vertical-align: middle;\n",
       "    }\n",
       "\n",
       "    .dataframe tbody tr th {\n",
       "        vertical-align: top;\n",
       "    }\n",
       "\n",
       "    .dataframe thead th {\n",
       "        text-align: right;\n",
       "    }\n",
       "</style>\n",
       "<table border=\"1\" class=\"dataframe\">\n",
       "  <thead>\n",
       "    <tr style=\"text-align: right;\">\n",
       "      <th></th>\n",
       "      <th>title</th>\n",
       "      <th>link</th>\n",
       "    </tr>\n",
       "  </thead>\n",
       "  <tbody>\n",
       "    <tr>\n",
       "      <th>0</th>\n",
       "      <td>Here's why COVID-19 vaccines haven't arrived i...</td>\n",
       "      <td>https://www.rappler.com/newsbreak/explainers/w...</td>\n",
       "    </tr>\n",
       "    <tr>\n",
       "      <th>1</th>\n",
       "      <td>TIMELINE: The Philippines' 2021 COVID-19 vacci...</td>\n",
       "      <td>https://www.rappler.com/newsbreak/iq/timeline-...</td>\n",
       "    </tr>\n",
       "    <tr>\n",
       "      <th>2</th>\n",
       "      <td>After initial delay, Philippines to receive As...</td>\n",
       "      <td>https://www.rappler.com/nation/philippines-rec...</td>\n",
       "    </tr>\n",
       "    <tr>\n",
       "      <th>3</th>\n",
       "      <td>Philippines receives first COVID-19 vaccine de...</td>\n",
       "      <td>https://www.rappler.com/nation/philippines-rec...</td>\n",
       "    </tr>\n",
       "    <tr>\n",
       "      <th>4</th>\n",
       "      <td>Philippines begins legally rolling out first C...</td>\n",
       "      <td>https://www.rappler.com/nation/philippines-beg...</td>\n",
       "    </tr>\n",
       "    <tr>\n",
       "      <th>5</th>\n",
       "      <td>Health chief Duque won't receive Sinovac vaccine</td>\n",
       "      <td>https://www.rappler.com/nation/health-chief-du...</td>\n",
       "    </tr>\n",
       "    <tr>\n",
       "      <th>6</th>\n",
       "      <td>Meet 'Dr Gap,' recipient of first legal COVID-...</td>\n",
       "      <td>https://www.rappler.com/nation/pgh-director-le...</td>\n",
       "    </tr>\n",
       "    <tr>\n",
       "      <th>7</th>\n",
       "      <td>COVID-19 vaccines have arrived, but are Filipi...</td>\n",
       "      <td>https://www.rappler.com/nation/covid-19-vaccin...</td>\n",
       "    </tr>\n",
       "    <tr>\n",
       "      <th>8</th>\n",
       "      <td>Sinopharm applies for emergency use of its COV...</td>\n",
       "      <td>https://www.rappler.com/nation/sinopharm-appli...</td>\n",
       "    </tr>\n",
       "    <tr>\n",
       "      <th>9</th>\n",
       "      <td>PH signs deals for 20 million Moderna, 5 milli...</td>\n",
       "      <td>https://www.rappler.com/nation/philippines-sig...</td>\n",
       "    </tr>\n",
       "  </tbody>\n",
       "</table>\n",
       "</div>"
      ],
      "text/plain": [
       "                                               title  \\\n",
       "0  Here's why COVID-19 vaccines haven't arrived i...   \n",
       "1  TIMELINE: The Philippines' 2021 COVID-19 vacci...   \n",
       "2  After initial delay, Philippines to receive As...   \n",
       "3  Philippines receives first COVID-19 vaccine de...   \n",
       "4  Philippines begins legally rolling out first C...   \n",
       "5   Health chief Duque won't receive Sinovac vaccine   \n",
       "6  Meet 'Dr Gap,' recipient of first legal COVID-...   \n",
       "7  COVID-19 vaccines have arrived, but are Filipi...   \n",
       "8  Sinopharm applies for emergency use of its COV...   \n",
       "9  PH signs deals for 20 million Moderna, 5 milli...   \n",
       "\n",
       "                                                link  \n",
       "0  https://www.rappler.com/newsbreak/explainers/w...  \n",
       "1  https://www.rappler.com/newsbreak/iq/timeline-...  \n",
       "2  https://www.rappler.com/nation/philippines-rec...  \n",
       "3  https://www.rappler.com/nation/philippines-rec...  \n",
       "4  https://www.rappler.com/nation/philippines-beg...  \n",
       "5  https://www.rappler.com/nation/health-chief-du...  \n",
       "6  https://www.rappler.com/nation/pgh-director-le...  \n",
       "7  https://www.rappler.com/nation/covid-19-vaccin...  \n",
       "8  https://www.rappler.com/nation/sinopharm-appli...  \n",
       "9  https://www.rappler.com/nation/philippines-sig...  "
      ]
     },
     "execution_count": 79,
     "metadata": {},
     "output_type": "execute_result"
    }
   ],
   "source": [
    "df"
   ]
  },
  {
   "cell_type": "code",
   "execution_count": 68,
   "metadata": {},
   "outputs": [
    {
     "data": {
      "text/plain": [
       "0"
      ]
     },
     "execution_count": 68,
     "metadata": {},
     "output_type": "execute_result"
    }
   ],
   "source": [
    "len(urls)"
   ]
  },
  {
   "cell_type": "code",
   "execution_count": 93,
   "metadata": {
    "scrolled": true
   },
   "outputs": [
    {
     "name": "stdout",
     "output_type": "stream",
     "text": [
      "Page: 1\n",
      "https://www.rappler.com/newsbreak/explainers/why-covid-19-vaccines-not-arrive-philippines\n",
      "Page: 1\n",
      "https://www.rappler.com/newsbreak/explainers/why-covid-19-vaccines-not-arrive-philippines\n",
      "Page: 1\n",
      "https://www.rappler.com/newsbreak/iq/timeline-philippines-2021-covid-19-vaccination-plan\n",
      "Page: 1\n",
      "https://www.rappler.com/newsbreak/iq/timeline-philippines-2021-covid-19-vaccination-plan\n",
      "Page: 1\n",
      "https://www.rappler.com/nation/philippines-receive-astrazeneca-covid-19-vaccine-march-4-2021\n",
      "Page: 1\n",
      "https://www.rappler.com/nation/philippines-receive-astrazeneca-covid-19-vaccine-march-4-2021\n",
      "Page: 1\n",
      "https://www.rappler.com/nation/philippines-receives-first-delivery-covid-19-vaccine-sinovac-february-28-2021\n",
      "Page: 1\n",
      "https://www.rappler.com/nation/philippines-receives-first-delivery-covid-19-vaccine-sinovac-february-28-2021\n",
      "Page: 1\n",
      "https://www.rappler.com/nation/philippines-begins-legally-rolling-out-covid-19-vaccine-march-1-2021\n",
      "Page: 1\n",
      "https://www.rappler.com/nation/philippines-begins-legally-rolling-out-covid-19-vaccine-march-1-2021\n",
      "Page: 1\n",
      "https://www.rappler.com/nation/health-chief-duque-not-receive-sinovac-covid-19-vaccine\n",
      "Page: 1\n",
      "https://www.rappler.com/nation/health-chief-duque-not-receive-sinovac-covid-19-vaccine\n",
      "Page: 1\n",
      "https://www.rappler.com/nation/pgh-director-legaspi-receives-first-legal-covid-19-vaccine-philippines\n",
      "Page: 1\n",
      "https://www.rappler.com/nation/pgh-director-legaspi-receives-first-legal-covid-19-vaccine-philippines\n",
      "Page: 1\n",
      "https://www.rappler.com/nation/covid-19-pandemic-latest-situation-in-the-philippines-march-2021\n",
      "Page: 1\n",
      "https://www.rappler.com/nation/covid-19-pandemic-latest-situation-in-the-philippines-march-2021\n",
      "Page: 1\n",
      "https://www.rappler.com/nation/covid-19-vaccines-have-arrived-are-filipinos-willing-get-them\n",
      "Page: 1\n",
      "https://www.rappler.com/nation/covid-19-vaccines-have-arrived-are-filipinos-willing-get-them\n",
      "Page: 1\n",
      "https://www.rappler.com/nation/sinopharm-applies-fda-emergency-use-approval-covid-19-vaccine-philippines\n",
      "Page: 1\n",
      "https://www.rappler.com/nation/sinopharm-applies-fda-emergency-use-approval-covid-19-vaccine-philippines\n"
     ]
    },
    {
     "ename": "ElementClickInterceptedException",
     "evalue": "Message: element click intercepted: Element <div class=\"gsc-cursor-page\" aria-label=\"Page ...\" role=\"link\" tabindex=\"0\">2</div> is not clickable at point (536, 27). Other element would receive the click: <a href=\"/views\" data-event-category=\"UX\" data-event-action=\"Navigational Feature Click\" data-event-label=\"Main Menu:Views\" class=\"has-submenu\">...</a>\n  (Session info: chrome=88.0.4324.190)\n",
     "output_type": "error",
     "traceback": [
      "\u001b[1;31m---------------------------------------------------------------------------\u001b[0m",
      "\u001b[1;31mElementClickInterceptedException\u001b[0m          Traceback (most recent call last)",
      "\u001b[1;32m<ipython-input-93-0e4271e403ab>\u001b[0m in \u001b[0;36m<module>\u001b[1;34m\u001b[0m\n\u001b[0;32m     32\u001b[0m         \u001b[0mdriver\u001b[0m\u001b[1;33m.\u001b[0m\u001b[0mexecute_script\u001b[0m\u001b[1;33m(\u001b[0m\u001b[1;34m'window.scrollBy(0, document.body.scrollHeight)'\u001b[0m\u001b[1;33m,\u001b[0m \u001b[1;34m''\u001b[0m\u001b[1;33m)\u001b[0m\u001b[1;33m\u001b[0m\u001b[1;33m\u001b[0m\u001b[0m\n\u001b[0;32m     33\u001b[0m         \u001b[0mwait\u001b[0m \u001b[1;33m=\u001b[0m \u001b[0mWebDriverWait\u001b[0m\u001b[1;33m(\u001b[0m\u001b[0mdriver\u001b[0m\u001b[1;33m,\u001b[0m \u001b[1;36m10\u001b[0m\u001b[1;33m)\u001b[0m\u001b[1;33m\u001b[0m\u001b[1;33m\u001b[0m\u001b[0m\n\u001b[1;32m---> 34\u001b[1;33m         \u001b[0mwait\u001b[0m\u001b[1;33m.\u001b[0m\u001b[0muntil\u001b[0m\u001b[1;33m(\u001b[0m\u001b[0mEC\u001b[0m\u001b[1;33m.\u001b[0m\u001b[0melement_to_be_clickable\u001b[0m\u001b[1;33m(\u001b[0m\u001b[1;33m(\u001b[0m\u001b[0mBy\u001b[0m\u001b[1;33m.\u001b[0m\u001b[0mXPATH\u001b[0m\u001b[1;33m,\u001b[0m \u001b[1;34m'//*[@id=\"___gcse_0\"]/div/div/div/div[5]/div[2]/div[1]/div/div[2]/div/div[2]'\u001b[0m\u001b[1;33m)\u001b[0m\u001b[1;33m)\u001b[0m\u001b[1;33m)\u001b[0m\u001b[1;33m.\u001b[0m\u001b[0mclick\u001b[0m\u001b[1;33m(\u001b[0m\u001b[1;33m)\u001b[0m\u001b[1;33m\u001b[0m\u001b[1;33m\u001b[0m\u001b[0m\n\u001b[0m\u001b[0;32m     35\u001b[0m \u001b[1;31m#         pbutton.click()\u001b[0m\u001b[1;33m\u001b[0m\u001b[1;33m\u001b[0m\u001b[1;33m\u001b[0m\u001b[0m\n\u001b[0;32m     36\u001b[0m         \u001b[0mget_urls\u001b[0m\u001b[1;33m(\u001b[0m\u001b[0mpage\u001b[0m\u001b[1;33m)\u001b[0m\u001b[1;33m\u001b[0m\u001b[1;33m\u001b[0m\u001b[0m\n",
      "\u001b[1;32m~\\anaconda3\\lib\\site-packages\\selenium\\webdriver\\remote\\webelement.py\u001b[0m in \u001b[0;36mclick\u001b[1;34m(self)\u001b[0m\n\u001b[0;32m     78\u001b[0m     \u001b[1;32mdef\u001b[0m \u001b[0mclick\u001b[0m\u001b[1;33m(\u001b[0m\u001b[0mself\u001b[0m\u001b[1;33m)\u001b[0m\u001b[1;33m:\u001b[0m\u001b[1;33m\u001b[0m\u001b[1;33m\u001b[0m\u001b[0m\n\u001b[0;32m     79\u001b[0m         \u001b[1;34m\"\"\"Clicks the element.\"\"\"\u001b[0m\u001b[1;33m\u001b[0m\u001b[1;33m\u001b[0m\u001b[0m\n\u001b[1;32m---> 80\u001b[1;33m         \u001b[0mself\u001b[0m\u001b[1;33m.\u001b[0m\u001b[0m_execute\u001b[0m\u001b[1;33m(\u001b[0m\u001b[0mCommand\u001b[0m\u001b[1;33m.\u001b[0m\u001b[0mCLICK_ELEMENT\u001b[0m\u001b[1;33m)\u001b[0m\u001b[1;33m\u001b[0m\u001b[1;33m\u001b[0m\u001b[0m\n\u001b[0m\u001b[0;32m     81\u001b[0m \u001b[1;33m\u001b[0m\u001b[0m\n\u001b[0;32m     82\u001b[0m     \u001b[1;32mdef\u001b[0m \u001b[0msubmit\u001b[0m\u001b[1;33m(\u001b[0m\u001b[0mself\u001b[0m\u001b[1;33m)\u001b[0m\u001b[1;33m:\u001b[0m\u001b[1;33m\u001b[0m\u001b[1;33m\u001b[0m\u001b[0m\n",
      "\u001b[1;32m~\\anaconda3\\lib\\site-packages\\selenium\\webdriver\\remote\\webelement.py\u001b[0m in \u001b[0;36m_execute\u001b[1;34m(self, command, params)\u001b[0m\n\u001b[0;32m    631\u001b[0m             \u001b[0mparams\u001b[0m \u001b[1;33m=\u001b[0m \u001b[1;33m{\u001b[0m\u001b[1;33m}\u001b[0m\u001b[1;33m\u001b[0m\u001b[1;33m\u001b[0m\u001b[0m\n\u001b[0;32m    632\u001b[0m         \u001b[0mparams\u001b[0m\u001b[1;33m[\u001b[0m\u001b[1;34m'id'\u001b[0m\u001b[1;33m]\u001b[0m \u001b[1;33m=\u001b[0m \u001b[0mself\u001b[0m\u001b[1;33m.\u001b[0m\u001b[0m_id\u001b[0m\u001b[1;33m\u001b[0m\u001b[1;33m\u001b[0m\u001b[0m\n\u001b[1;32m--> 633\u001b[1;33m         \u001b[1;32mreturn\u001b[0m \u001b[0mself\u001b[0m\u001b[1;33m.\u001b[0m\u001b[0m_parent\u001b[0m\u001b[1;33m.\u001b[0m\u001b[0mexecute\u001b[0m\u001b[1;33m(\u001b[0m\u001b[0mcommand\u001b[0m\u001b[1;33m,\u001b[0m \u001b[0mparams\u001b[0m\u001b[1;33m)\u001b[0m\u001b[1;33m\u001b[0m\u001b[1;33m\u001b[0m\u001b[0m\n\u001b[0m\u001b[0;32m    634\u001b[0m \u001b[1;33m\u001b[0m\u001b[0m\n\u001b[0;32m    635\u001b[0m     \u001b[1;32mdef\u001b[0m \u001b[0mfind_element\u001b[0m\u001b[1;33m(\u001b[0m\u001b[0mself\u001b[0m\u001b[1;33m,\u001b[0m \u001b[0mby\u001b[0m\u001b[1;33m=\u001b[0m\u001b[0mBy\u001b[0m\u001b[1;33m.\u001b[0m\u001b[0mID\u001b[0m\u001b[1;33m,\u001b[0m \u001b[0mvalue\u001b[0m\u001b[1;33m=\u001b[0m\u001b[1;32mNone\u001b[0m\u001b[1;33m)\u001b[0m\u001b[1;33m:\u001b[0m\u001b[1;33m\u001b[0m\u001b[1;33m\u001b[0m\u001b[0m\n",
      "\u001b[1;32m~\\anaconda3\\lib\\site-packages\\selenium\\webdriver\\remote\\webdriver.py\u001b[0m in \u001b[0;36mexecute\u001b[1;34m(self, driver_command, params)\u001b[0m\n\u001b[0;32m    319\u001b[0m         \u001b[0mresponse\u001b[0m \u001b[1;33m=\u001b[0m \u001b[0mself\u001b[0m\u001b[1;33m.\u001b[0m\u001b[0mcommand_executor\u001b[0m\u001b[1;33m.\u001b[0m\u001b[0mexecute\u001b[0m\u001b[1;33m(\u001b[0m\u001b[0mdriver_command\u001b[0m\u001b[1;33m,\u001b[0m \u001b[0mparams\u001b[0m\u001b[1;33m)\u001b[0m\u001b[1;33m\u001b[0m\u001b[1;33m\u001b[0m\u001b[0m\n\u001b[0;32m    320\u001b[0m         \u001b[1;32mif\u001b[0m \u001b[0mresponse\u001b[0m\u001b[1;33m:\u001b[0m\u001b[1;33m\u001b[0m\u001b[1;33m\u001b[0m\u001b[0m\n\u001b[1;32m--> 321\u001b[1;33m             \u001b[0mself\u001b[0m\u001b[1;33m.\u001b[0m\u001b[0merror_handler\u001b[0m\u001b[1;33m.\u001b[0m\u001b[0mcheck_response\u001b[0m\u001b[1;33m(\u001b[0m\u001b[0mresponse\u001b[0m\u001b[1;33m)\u001b[0m\u001b[1;33m\u001b[0m\u001b[1;33m\u001b[0m\u001b[0m\n\u001b[0m\u001b[0;32m    322\u001b[0m             response['value'] = self._unwrap_value(\n\u001b[0;32m    323\u001b[0m                 response.get('value', None))\n",
      "\u001b[1;32m~\\anaconda3\\lib\\site-packages\\selenium\\webdriver\\remote\\errorhandler.py\u001b[0m in \u001b[0;36mcheck_response\u001b[1;34m(self, response)\u001b[0m\n\u001b[0;32m    240\u001b[0m                 \u001b[0malert_text\u001b[0m \u001b[1;33m=\u001b[0m \u001b[0mvalue\u001b[0m\u001b[1;33m[\u001b[0m\u001b[1;34m'alert'\u001b[0m\u001b[1;33m]\u001b[0m\u001b[1;33m.\u001b[0m\u001b[0mget\u001b[0m\u001b[1;33m(\u001b[0m\u001b[1;34m'text'\u001b[0m\u001b[1;33m)\u001b[0m\u001b[1;33m\u001b[0m\u001b[1;33m\u001b[0m\u001b[0m\n\u001b[0;32m    241\u001b[0m             \u001b[1;32mraise\u001b[0m \u001b[0mexception_class\u001b[0m\u001b[1;33m(\u001b[0m\u001b[0mmessage\u001b[0m\u001b[1;33m,\u001b[0m \u001b[0mscreen\u001b[0m\u001b[1;33m,\u001b[0m \u001b[0mstacktrace\u001b[0m\u001b[1;33m,\u001b[0m \u001b[0malert_text\u001b[0m\u001b[1;33m)\u001b[0m\u001b[1;33m\u001b[0m\u001b[1;33m\u001b[0m\u001b[0m\n\u001b[1;32m--> 242\u001b[1;33m         \u001b[1;32mraise\u001b[0m \u001b[0mexception_class\u001b[0m\u001b[1;33m(\u001b[0m\u001b[0mmessage\u001b[0m\u001b[1;33m,\u001b[0m \u001b[0mscreen\u001b[0m\u001b[1;33m,\u001b[0m \u001b[0mstacktrace\u001b[0m\u001b[1;33m)\u001b[0m\u001b[1;33m\u001b[0m\u001b[1;33m\u001b[0m\u001b[0m\n\u001b[0m\u001b[0;32m    243\u001b[0m \u001b[1;33m\u001b[0m\u001b[0m\n\u001b[0;32m    244\u001b[0m     \u001b[1;32mdef\u001b[0m \u001b[0m_value_or_default\u001b[0m\u001b[1;33m(\u001b[0m\u001b[0mself\u001b[0m\u001b[1;33m,\u001b[0m \u001b[0mobj\u001b[0m\u001b[1;33m,\u001b[0m \u001b[0mkey\u001b[0m\u001b[1;33m,\u001b[0m \u001b[0mdefault\u001b[0m\u001b[1;33m)\u001b[0m\u001b[1;33m:\u001b[0m\u001b[1;33m\u001b[0m\u001b[1;33m\u001b[0m\u001b[0m\n",
      "\u001b[1;31mElementClickInterceptedException\u001b[0m: Message: element click intercepted: Element <div class=\"gsc-cursor-page\" aria-label=\"Page ...\" role=\"link\" tabindex=\"0\">2</div> is not clickable at point (536, 27). Other element would receive the click: <a href=\"/views\" data-event-category=\"UX\" data-event-action=\"Navigational Feature Click\" data-event-label=\"Main Menu:Views\" class=\"has-submenu\">...</a>\n  (Session info: chrome=88.0.4324.190)\n"
     ]
    }
   ],
   "source": [
    "PATH =r\"C:\\Users\\Optiplex\\Downloads\\chromedriver.exe\"\n",
    "\n",
    "driver = webdriver.Chrome(PATH)\n",
    "\n",
    "driver.get(\"https://r3.rappler.com/?option=com_rappler&task=search&language=english&q=philippines+covid+vaccine\")\n",
    "\n",
    "pages = driver.find_elements(By.CSS_SELECTOR, 'div.gsc-cursor-page')\n",
    "totalpages = len(pages)\n",
    "\n",
    "urls = dict()\n",
    "\n",
    "def get_urls(page):\n",
    "    alinks = driver.find_elements(By.TAG_NAME,\"a.gs-title\")\n",
    "    for a in alinks:\n",
    "        link = a.get_attribute('href')\n",
    "        title = a.get_attribute(\"innerHTML\").replace(\"<b>\",\"\").replace(\"</b>\",\"\")\n",
    "        if (link != None) and (link not in urls):\n",
    "            urls[title] = link\n",
    "            print(f'Page: {page}')\n",
    "            print(link)\n",
    "\n",
    "get_urls(1)\n",
    "\n",
    "# PAGE 2 ONWARDS\n",
    "for p in range(1,totalpages):\n",
    "    driver.maximize_window()\n",
    "    # driver.execute_script('window.scrollBy(0, 1000)', '')\n",
    "    \n",
    "#     pbutton = driver.find_element(By.XPATH, '//*[@id=\"___gcse_0\"]/div/div/div/div[5]/div[2]/div[1]/div/div[2]/div/div[2]')\n",
    "    page = p+1\n",
    "    if page > 1:\n",
    "        driver.execute_script('window.scrollBy(0, document.body.scrollHeight)', '') \n",
    "        wait = WebDriverWait(driver, 10)\n",
    "        wait.until(EC.element_to_be_clickable((By.XPATH, '//*[@id=\"___gcse_0\"]/div/div/div/div[5]/div[2]/div[1]/div/div[2]/div/div[2]'))).click()\n",
    "#         pbutton.click()\n",
    "        get_urls(page)\n",
    "        time.sleep(15)\n",
    "\n",
    "\n",
    "\n",
    "\n",
    "time.sleep(15)\n",
    "\n",
    "driver.quit()"
   ]
  },
  {
   "cell_type": "code",
   "execution_count": null,
   "metadata": {},
   "outputs": [],
   "source": []
  }
 ],
 "metadata": {
  "kernelspec": {
   "display_name": "Python 3",
   "language": "python",
   "name": "python3"
  },
  "language_info": {
   "codemirror_mode": {
    "name": "ipython",
    "version": 3
   },
   "file_extension": ".py",
   "mimetype": "text/x-python",
   "name": "python",
   "nbconvert_exporter": "python",
   "pygments_lexer": "ipython3",
   "version": "3.8.5"
  }
 },
 "nbformat": 4,
 "nbformat_minor": 4
}
